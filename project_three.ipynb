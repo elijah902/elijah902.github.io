{
 "cells": [
  {
   "cell_type": "markdown",
   "id": "0b4a986c",
   "metadata": {},
   "source": [
    "## Introduction"
   ]
  },
  {
   "cell_type": "markdown",
   "id": "4434d562",
   "metadata": {},
   "source": [
    "For this project, I decided to collect my own dataset using this Raspberry Pi single board computer (cardboard box as part of the Google voice kit) that's been sitting next to my desk since the beginning of the semester. (pictured below) By collecting my own dataset, I wanted to better understand low-level computing metrics as well as gain experience creating my own dataset. I used the python program in the following cell to collect my data.  \n",
    "\n",
    "I decided to predict program run time using several different metrics such as loop size, average cpu percentage, and average ram percentage. I will be using a multiple linear regression model to predict python loop runtime. Linear regression is a supervised learning algorithm that seeks to fit a plane of best fit through the data. Multiple linear regression differs from univariate linear regression in that the features organized into an $\\mathbf{X}$ design matrix with more than one feature column, and so matrix algebra is required to find the line of best fit. We express the linear model with $y = X\\beta + \\varepsilon$, where y is the vector of observed output values, $\\mathbf{X}$ is the input feature matrix, $\\beta $ is the vector of parameters, and $\\varepsilon$ is the error. To find the error, we use the Least Squares Method, which defines a loss function where error is defined by the error between actual and predicted values, squared and summed.  To solve for $\\beta$, we use the closed form solution $\\hat{\\boldsymbol{\\beta}} = (\\mathbf{X}^T\\mathbf{X})^{-1}\\mathbf{X}^T\\mathbf{y}$. The estimated model can then be used to generate predictions with $\\hat{\\mathbf{y}} = \\mathbf{X}\\hat{\\boldsymbol{\\beta}}$.\n",
    "\n",
    "I initially ran into the problem of my data points being highly clustered together, so I included randomized loop size and artificial overhead into my dataset to make a dataset that more accurately represents the wide variety of different programs that someone could run.\n",
    "\n",
    "My goal of this project is to answer the question: \n",
    "\n",
    "-What kinds of system metrics influence loop program run time?\n",
    "\n",
    "-How might system runtime impact problem solving on a larger, real-world scale?\n",
    "\n",
    "\n",
    "<img src=\"IMG_20251017_201428841_HDR.jpg\" width=\"200\">\n",
    "\n",
    "\n"
   ]
  },
  {
   "cell_type": "code",
   "execution_count": 2,
   "id": "2e01db1c",
   "metadata": {},
   "outputs": [],
   "source": [
    "# # Data collection program \n",
    "# import time\n",
    "# import psutil\n",
    "# import pandas as pd\n",
    "# import random\n",
    "\n",
    "# def loop_with_metrics(n):\n",
    "#     \"\"\"\n",
    "#     Run a simple loop and measure how long it takes.\n",
    "    \n",
    "#     Parameters:\n",
    "#     - n: how many times to loop\n",
    "    \n",
    "#     Returns: dictionary with runtime, CPU, and RAM metrics\n",
    "#     \"\"\"\n",
    "#     # Add random background work before the main loop\n",
    "#     background_work = random.randint(5000, 50000)\n",
    "#     _ = [i ** 3 for i in range(background_work)]\n",
    "    \n",
    "#     # Start the timer\n",
    "#     start = time.perf_counter()\n",
    "    \n",
    "#     # Lists to store measurements\n",
    "#     cpu_samples = []\n",
    "#     ram_samples = []\n",
    "    \n",
    "    \n",
    "#     for i in range(n):\n",
    "#         _ = i ** 2\n",
    "        \n",
    "#         # Randomly add small bursts of extra work during the loop\n",
    "#         if random.random() > 0.95: # 5% chance\n",
    "#             _ = [j ** 2 for j in range(1000)]\n",
    "        \n",
    "#         # Sample CPU and RAM every 10,000 iterations\n",
    "#         if i % 10_000 == 0:\n",
    "#             cpu_samples.append(psutil.cpu_percent(interval=None))\n",
    "#             ram_samples.append(psutil.virtual_memory().percent)\n",
    "    \n",
    "#     # Add random background work after the main loop\n",
    "#     if random.random() > 0.5:\n",
    "#         background_work = random.randint(1000, 10000)\n",
    "#         _ = [i ** 2 for i in range(background_work)]\n",
    "    \n",
    "#     # Calculate total runtime\n",
    "#     runtime = time.perf_counter() - start\n",
    "    \n",
    "#     # Calculate averages\n",
    "#     avg_cpu = sum(cpu_samples) / len(cpu_samples) if cpu_samples else 0\n",
    "#     avg_ram = sum(ram_samples) / len(ram_samples) if ram_samples else 0\n",
    "    \n",
    "\n",
    "#     return {\n",
    "#         \"n\": n,\n",
    "#         \"runtime_sec\": runtime,\n",
    "#         \"avg_cpu_percent\": avg_cpu,\n",
    "#         \"avg_ram_percent\": avg_ram\n",
    "#     }\n",
    "\n",
    "\n",
    "# experiments = []\n",
    "\n",
    "# num_experiments = 40\n",
    "\n",
    "# for i in range(num_experiments):\n",
    "#     # Randomize n (loop count)\n",
    "#     n = random.randint(100_000, 800_000)\n",
    "    \n",
    "#     print(f\"  Experiment {i+1}/{num_experiments}: n={n:,}\")\n",
    "    \n",
    "#     result = loop_with_metrics(n)\n",
    "    \n",
    "#     experiments.append({\n",
    "#         \"n\": result[\"n\"],\n",
    "#         \"runtime_sec\": result[\"runtime_sec\"],\n",
    "#         \"avg_cpu_percent\": result[\"avg_cpu_percent\"],\n",
    "#         \"avg_ram_percent\": result[\"avg_ram_percent\"]\n",
    "#     })\n",
    "    \n",
    "#     # Variable pause creates more variation\n",
    "#     time.sleep(random.uniform(0.3, 0.8))\n",
    "\n",
    "# df = pd.DataFrame(experiments)\n",
    "\n",
    "# # Save to CSV file\n",
    "# df.to_csv(\"experiments.csv\", index=False)\n"
   ]
  },
  {
   "cell_type": "markdown",
   "id": "6fccb40f",
   "metadata": {},
   "source": [
    "# Understanding the data "
   ]
  },
  {
   "cell_type": "code",
   "execution_count": 3,
   "id": "bdaf9321",
   "metadata": {},
   "outputs": [
    {
     "name": "stdout",
     "output_type": "stream",
     "text": [
      "         n  runtime_sec  avg_cpu_percent  avg_ram_percent\n",
      "37  102891     3.950255        23.245455        16.700000\n",
      "7   112698     4.396665        23.883333        16.600000\n",
      "21  138423     5.229148        23.442857        16.600000\n",
      "14  161388     6.157040        23.800000        16.500000\n",
      "5   162857     6.192087        23.741176        16.500000\n",
      "4   190124     7.266170        24.045000        16.500000\n",
      "19  192524     7.409195        24.155000        16.630000\n",
      "9   194082     7.452671        24.300000        16.500000\n",
      "28  224459     8.710700        24.130435        16.700000\n",
      "8   227327     8.702275        24.291304        16.595652\n",
      "31  270685    10.328035        24.364286        16.600000\n",
      "24  277331    10.582325        24.457143        16.700000\n",
      "38  282264    10.743505        24.337931        16.700000\n",
      "36  284700    10.907703        24.372414        16.700000\n",
      "10  287883    10.837346        24.410345        16.500000\n",
      "6   408625    15.618584        24.504878        16.500000\n",
      "29  432377    16.618548        24.572727        16.700000\n",
      "22  457418    17.667444        24.641304        16.628261\n",
      "15  458699    17.455970        24.545652        16.500000\n",
      "30  496086    19.032817        24.618000        16.664000\n",
      "1   511246    19.539575        24.780769        16.500000\n",
      "16  511809    19.689365        24.717308        16.600000\n",
      "18  524361    20.066340        24.696226        16.600000\n",
      "33  527517    20.330448        24.558491        16.600000\n",
      "26  531362    20.206721        24.629630        16.600000\n",
      "39  533806    20.474946        24.655556        16.700000\n",
      "23  539983    20.497984        24.714815        16.700000\n",
      "27  550793    21.254862        24.646429        16.687500\n",
      "11  552141    21.060310        24.717857        16.500000\n",
      "0   558928    21.176943        25.048214        16.600000\n",
      "3   594978    22.705518        24.758333        16.500000\n",
      "2   605050    23.048693        24.673770        16.500000\n",
      "35  614029    23.588781        24.756452        16.737097\n",
      "32  620290    23.804818        24.650794        16.600000\n",
      "25  632284    24.120029        24.760938        16.614063\n",
      "12  662946    25.302903        24.722388        16.547761\n",
      "20  690910    26.387428        24.714286        16.612857\n",
      "34  697966    26.824471        24.784286        16.611429\n",
      "13  731412    27.922370        24.728378        16.500000\n",
      "17  738389    27.981275        24.718919        16.600000\n"
     ]
    }
   ],
   "source": [
    "# Import necessary libraries\n",
    "import pandas as pd\n",
    "import seaborn as sns\n",
    "import numpy as np\n",
    "import matplotlib.pyplot as plt\n",
    "\n",
    "# Load dataset\n",
    "df = pd.read_csv('metrics.csv')\n",
    "print(df.sort_values(by='n'))"
   ]
  },
  {
   "cell_type": "code",
   "execution_count": 4,
   "id": "f0669cb0",
   "metadata": {},
   "outputs": [
    {
     "data": {
      "text/plain": [
       "n                  0\n",
       "runtime_sec        0\n",
       "avg_cpu_percent    0\n",
       "avg_ram_percent    0\n",
       "dtype: int64"
      ]
     },
     "execution_count": 4,
     "metadata": {},
     "output_type": "execute_result"
    }
   ],
   "source": [
    "df.isnull().sum()"
   ]
  },
  {
   "cell_type": "code",
   "execution_count": 5,
   "id": "f83ace14",
   "metadata": {},
   "outputs": [
    {
     "data": {
      "text/plain": [
       "Index(['n', 'runtime_sec', 'avg_cpu_percent', 'avg_ram_percent'], dtype='object')"
      ]
     },
     "execution_count": 5,
     "metadata": {},
     "output_type": "execute_result"
    }
   ],
   "source": [
    "df.columns"
   ]
  },
  {
   "cell_type": "code",
   "execution_count": 6,
   "id": "a8de0d72",
   "metadata": {},
   "outputs": [
    {
     "data": {
      "text/html": [
       "<div>\n",
       "<style scoped>\n",
       "    .dataframe tbody tr th:only-of-type {\n",
       "        vertical-align: middle;\n",
       "    }\n",
       "\n",
       "    .dataframe tbody tr th {\n",
       "        vertical-align: top;\n",
       "    }\n",
       "\n",
       "    .dataframe thead th {\n",
       "        text-align: right;\n",
       "    }\n",
       "</style>\n",
       "<table border=\"1\" class=\"dataframe\">\n",
       "  <thead>\n",
       "    <tr style=\"text-align: right;\">\n",
       "      <th></th>\n",
       "      <th>n</th>\n",
       "      <th>runtime_sec</th>\n",
       "      <th>avg_cpu_percent</th>\n",
       "      <th>avg_ram_percent</th>\n",
       "    </tr>\n",
       "  </thead>\n",
       "  <tbody>\n",
       "    <tr>\n",
       "      <th>count</th>\n",
       "      <td>40.000000</td>\n",
       "      <td>40.000000</td>\n",
       "      <td>40.000000</td>\n",
       "      <td>40.000000</td>\n",
       "    </tr>\n",
       "    <tr>\n",
       "      <th>mean</th>\n",
       "      <td>432326.025000</td>\n",
       "      <td>16.531057</td>\n",
       "      <td>24.457327</td>\n",
       "      <td>16.598215</td>\n",
       "    </tr>\n",
       "    <tr>\n",
       "      <th>std</th>\n",
       "      <td>193952.341791</td>\n",
       "      <td>7.406394</td>\n",
       "      <td>0.388203</td>\n",
       "      <td>0.077685</td>\n",
       "    </tr>\n",
       "    <tr>\n",
       "      <th>min</th>\n",
       "      <td>102891.000000</td>\n",
       "      <td>3.950255</td>\n",
       "      <td>23.245455</td>\n",
       "      <td>16.500000</td>\n",
       "    </tr>\n",
       "    <tr>\n",
       "      <th>25%</th>\n",
       "      <td>259845.500000</td>\n",
       "      <td>9.923701</td>\n",
       "      <td>24.328448</td>\n",
       "      <td>16.500000</td>\n",
       "    </tr>\n",
       "    <tr>\n",
       "      <th>50%</th>\n",
       "      <td>503666.000000</td>\n",
       "      <td>19.286196</td>\n",
       "      <td>24.623815</td>\n",
       "      <td>16.600000</td>\n",
       "    </tr>\n",
       "    <tr>\n",
       "      <th>75%</th>\n",
       "      <td>567940.500000</td>\n",
       "      <td>21.617526</td>\n",
       "      <td>24.717445</td>\n",
       "      <td>16.669875</td>\n",
       "    </tr>\n",
       "    <tr>\n",
       "      <th>max</th>\n",
       "      <td>738389.000000</td>\n",
       "      <td>27.981275</td>\n",
       "      <td>25.048214</td>\n",
       "      <td>16.737097</td>\n",
       "    </tr>\n",
       "  </tbody>\n",
       "</table>\n",
       "</div>"
      ],
      "text/plain": [
       "                   n  runtime_sec  avg_cpu_percent  avg_ram_percent\n",
       "count      40.000000    40.000000        40.000000        40.000000\n",
       "mean   432326.025000    16.531057        24.457327        16.598215\n",
       "std    193952.341791     7.406394         0.388203         0.077685\n",
       "min    102891.000000     3.950255        23.245455        16.500000\n",
       "25%    259845.500000     9.923701        24.328448        16.500000\n",
       "50%    503666.000000    19.286196        24.623815        16.600000\n",
       "75%    567940.500000    21.617526        24.717445        16.669875\n",
       "max    738389.000000    27.981275        25.048214        16.737097"
      ]
     },
     "execution_count": 6,
     "metadata": {},
     "output_type": "execute_result"
    }
   ],
   "source": [
    "df.describe()"
   ]
  },
  {
   "cell_type": "code",
   "execution_count": 7,
   "id": "3d9c7b0e",
   "metadata": {},
   "outputs": [
    {
     "data": {
      "text/plain": [
       "(40, 4)"
      ]
     },
     "execution_count": 7,
     "metadata": {},
     "output_type": "execute_result"
    }
   ],
   "source": [
    "df.shape"
   ]
  },
  {
   "cell_type": "markdown",
   "id": "bb746081",
   "metadata": {},
   "source": [
    "##### Here we can see that the dataset is made up of 40 observations, with three feaure columns and one target column. Since average RAM percentage remains nearly constant regardless of loop size n, I'll drop that column. This may have been due to the Pi's memory/OS management, the loop program may not have been taxing enough to cause a large change in RAM, or some other reason."
   ]
  },
  {
   "cell_type": "markdown",
   "id": "73134efc",
   "metadata": {},
   "source": [
    "## Pre-processing"
   ]
  },
  {
   "cell_type": "code",
   "execution_count": 8,
   "id": "c6d04e65",
   "metadata": {},
   "outputs": [],
   "source": [
    "df = df.drop(columns=['avg_ram_percent'])"
   ]
  },
  {
   "cell_type": "markdown",
   "id": "6f25f59e",
   "metadata": {},
   "source": [
    "##### Now, I'll visualize the data to see if we can find any trends before modeling. "
   ]
  },
  {
   "cell_type": "code",
   "execution_count": 9,
   "id": "115de3b0",
   "metadata": {},
   "outputs": [
    {
     "data": {
      "image/png": "[encoded data removed]",
      "text/plain": [
       "<Figure size 1200x500 with 2 Axes>"
      ]
     },
     "metadata": {},
     "output_type": "display_data"
    }
   ],
   "source": [
    "fig, axes = plt.subplots(1, 2, figsize=(12, 5))\n",
    "\n",
    "axes[0].scatter(df['n'], df['runtime_sec'])\n",
    "axes[0].set_xlabel('n')\n",
    "axes[0].set_ylabel('runtime_sec')\n",
    "axes[0].set_title('Runtime vs n')\n",
    "\n",
    "axes[1].scatter(df['avg_cpu_percent'], df['runtime_sec'])\n",
    "axes[1].set_xlabel('avg_cpu_percent')\n",
    "axes[1].set_ylabel('runtime_sec')\n",
    "axes[1].set_title('Runtime vs avg_cpu_percent')\n",
    "\n",
    "plt.tight_layout()\n",
    "plt.show()"
   ]
  },
  {
   "cell_type": "markdown",
   "id": "3791167e",
   "metadata": {},
   "source": [
    "Interesting! It makes intuitive sense that loop size positively linearly correlates with runtime. However, CPU percentage increases expontentially correlates with runtime. Looking into this a bit further, this could be due to a few things, such as thermal throttling (the Pi was a bit warm while collecting data), higher cpu utilization due to a fuller CPU cache, more background processes with larger n, or some other reason. While interesting, this exponential relationship is problematic for modeling because a linear regression model assumes that a linear relationships exists between features and the target. To address this, I'll apply a non-linear transformation to average CPU percentage to make it more linear. "
   ]
  },
  {
   "cell_type": "code",
   "execution_count": 10,
   "id": "5661d572",
   "metadata": {},
   "outputs": [
    {
     "data": {
      "image/png": "[encoded data removed]",
      "text/plain": [
       "<Figure size 800x500 with 1 Axes>"
      ]
     },
     "metadata": {},
     "output_type": "display_data"
    }
   ],
   "source": [
    "df['log_cpu'] = np.log(df['avg_cpu_percent'])\n",
    "\n",
    "plt.figure(figsize=(8,5))\n",
    "plt.scatter(df['log_cpu'], df['runtime_sec'], color='blue', alpha=0.7)\n",
    "plt.xlabel('Log of Average CPU %')\n",
    "plt.ylabel('Runtime (seconds)')\n",
    "plt.title('Runtime vs Log(Avg CPU%)')\n",
    "plt.show()"
   ]
  },
  {
   "cell_type": "markdown",
   "id": "cdbe6874",
   "metadata": {},
   "source": [
    "This still looks exponential after the log transformation, but this should help the results to be more accurate."
   ]
  },
  {
   "cell_type": "markdown",
   "id": "182e3d25",
   "metadata": {},
   "source": [
    "## Modeling\n",
    "\n",
    "I'll scale the features using standardization, which transforms the data according to this formula: $x' = \\dfrac{x - \\mu}{\\sigma}$"
   ]
  },
  {
   "cell_type": "code",
   "execution_count": 23,
   "id": "404985c1",
   "metadata": {},
   "outputs": [
    {
     "name": "stdout",
     "output_type": "stream",
     "text": [
      "R^2: 0.9999\n",
      "MAE: 0.0612\n",
      "RMSE: 0.0843\n",
      "\n",
      "Coefficients (original scale):\n",
      " n          0.000038\n",
      "log_cpu   -0.032989\n",
      "dtype: float64\n",
      "Intercept (original scale): 0.1233501978812761\n"
     ]
    },
    {
     "data": {
      "image/png": "[encoded data removed]",
      "text/plain": [
       "<Figure size 700x600 with 1 Axes>"
      ]
     },
     "metadata": {},
     "output_type": "display_data"
    }
   ],
   "source": [
    "from sklearn import linear_model\n",
    "from sklearn.linear_model import LinearRegression\n",
    "from sklearn.metrics import r2_score, mean_squared_error, mean_absolute_error\n",
    "from sklearn.model_selection import train_test_split\n",
    "from sklearn.preprocessing import StandardScaler\n",
    "import numpy as np\n",
    "\n",
    "\n",
    "# Choosing feature and target\n",
    "X = df[[\"n\", \"log_cpu\"]]\n",
    "y = df[\"runtime_sec\"]\n",
    "\n",
    "# Splitting the data into training and testing sets\n",
    "X_train, X_test, y_train, y_test = train_test_split(X, y, test_size=.3, random_state=42)\n",
    "\n",
    "# Scaling the features \n",
    "scaler = StandardScaler()\n",
    "X_train_s = scaler.fit_transform(X_train)\n",
    "X_test_s = scaler.transform(X_test)\n",
    "\n",
    "# Training the model\n",
    "reg = linear_model.LinearRegression()\n",
    "reg.fit(X_train_s, y_train)\n",
    "y_pred = reg.predict(X_test_s)\n",
    "\n",
    "# Test metrics\n",
    "print(\"R^2:\", round(r2_score(y_test, y_pred), 4))\n",
    "print(\"MAE:\", round(mean_absolute_error(y_test, y_pred), 4))\n",
    "print(\"RMSE:\", round(np.sqrt(mean_squared_error(y_test, y_pred)), 4))\n",
    "\n",
    "# Converting back to original feature scale for interpretation\n",
    "coef_unscaled = reg.coef_ / scaler.scale_\n",
    "intercept_unscaled = reg.intercept_ - np.sum((scaler.mean_ / scaler.scale_) * reg.coef_)\n",
    "coef_unscaled = pd.Series(coef_unscaled, index=X.columns)\n",
    "print(\"\\nCoefficients (original scale):\\n\", coef_unscaled)\n",
    "print(\"Intercept (original scale):\", intercept_unscaled)\n",
    "\n",
    "\n",
    "plt.figure(figsize=(7,6))\n",
    "sc = plt.scatter(y_test, y_pred)\n",
    "plt.plot([y_test.min(), y_test.max()], [y_test.min(), y_test.max()], 'r--', linewidth=1)\n",
    "plt.xlabel('Actual runtime_sec')\n",
    "plt.ylabel('Predicted runtime_sec')\n",
    "plt.title(f'Predicted vs Actual (test set)')\n",
    "plt.grid(True)\n",
    "plt.tight_layout()\n",
    "plt.show()"
   ]
  },
  {
   "cell_type": "markdown",
   "id": "a2c75842",
   "metadata": {},
   "source": [
    "My R^2 value is nearly 1, so the variation in the data can almost be completely explained by the model. My mean absolute error and my mean squared error are also very low, so my model is performing quite well! However, high accuracy on the training set. "
   ]
  },
  {
   "cell_type": "markdown",
   "id": "de629aaf",
   "metadata": {},
   "source": [
    "I can try to use pipeline, or only one featur, k fold, ridge regression"
   ]
  },
  {
   "cell_type": "markdown",
   "id": "b4fab9d7",
   "metadata": {},
   "source": [
    "## Evaluation"
   ]
  },
  {
   "cell_type": "markdown",
   "id": "1f676740",
   "metadata": {},
   "source": [
    "## Impact"
   ]
  },
  {
   "cell_type": "markdown",
   "id": "49eede91",
   "metadata": {},
   "source": [
    "## Conclusion"
   ]
  },
  {
   "cell_type": "markdown",
   "id": "20b6e460",
   "metadata": {},
   "source": [
    "## References\n",
    "https://www.geeksforgeeks.org/machine-learning/linear-regression-python-implementation/"
   ]
  }
 ],
 "metadata": {
  "kernelspec": {
   "display_name": "ITCS-3162",
   "language": "python",
   "name": "python3"
  },
  "language_info": {
   "codemirror_mode": {
    "name": "ipython",
    "version": 3
   },
   "file_extension": ".py",
   "mimetype": "text/x-python",
   "name": "python",
   "nbconvert_exporter": "python",
   "pygments_lexer": "ipython3",
   "version": "3.9.23"
  }
 },
 "nbformat": 4,
 "nbformat_minor": 5
}
