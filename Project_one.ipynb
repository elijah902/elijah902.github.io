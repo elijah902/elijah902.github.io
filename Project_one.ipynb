{
  "nbformat": 4,
  "nbformat_minor": 0,
  "metadata": {
    "colab": {
      "provenance": []
    },
    "kernelspec": {
      "name": "python3",
      "display_name": "Python 3"
    },
    "language_info": {
      "name": "python"
    }
  },
  "cells": [
    {
      "cell_type": "code",
      "execution_count": null,
      "metadata": {
        "id": "EZgJ8sLwm6Es"
      },
      "outputs": [],
      "source": [
        "import pandas as pd\n",
        "import matplotlib.pyplot as plt\n",
        "import numpy as np\n",
        "import seaborn as sb\n"
      ]
    },
    {
      "cell_type": "markdown",
      "source": [
        "Welcome to my project one! [link text](https://)"
      ],
      "metadata": {
        "id": "anY9r62Ju93K"
      }
    },
    {
      "cell_type": "markdown",
      "source": [
        "In this project I will be exploring the dataset."
      ],
      "metadata": {
        "id": "fuSMR7IyvFr_"
      }
    },
    {
      "cell_type": "code",
      "source": [
        "categories = ['A', 'B', 'C', 'D']\n",
        "values = [10, 24, 36, 18]\n",
        "plt.bar(categories, values)\n",
        "plt.show()"
      ],
      "metadata": {
        "id": "X3YgL4DXu2oR",
        "colab": {
          "base_uri": "https://localhost:8080/",
          "height": 430
        },
        "outputId": "da983783-ea61-4d00-aeb8-1d45d931f8c0"
      },
      "execution_count": 6,
      "outputs": [
        {
          "output_type": "display_data",
          "data": {
            "text/plain": [
              "<Figure size 640x480 with 1 Axes>"
            ],
            "image/png": "[encoded data removed]"
          },
          "metadata": {}
        }
      ]
    },
    {
      "cell_type": "code",
      "source": [],
      "metadata": {
        "id": "CeeTv9SczuuS"
      },
      "execution_count": null,
      "outputs": []
    }
  ]
}